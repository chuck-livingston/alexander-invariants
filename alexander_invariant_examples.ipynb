{
 "cells": [
  {
   "cell_type": "code",
   "execution_count": 1,
   "id": "2fc286cd",
   "metadata": {},
   "outputs": [],
   "source": [
    "#Load the alexander invariants program\n",
    "load('alexander_invariants.sage')"
   ]
  },
  {
   "cell_type": "code",
   "execution_count": 2,
   "id": "820b44ef-613d-415b-8293-de6196525edf",
   "metadata": {},
   "outputs": [
    {
     "data": {
      "text/plain": [
       "[(t^2 - 3*t + 1) * (t^2 - t + 1)^2, t^2 - t + 1]"
      ]
     },
     "execution_count": 2,
     "metadata": {},
     "output_type": "execute_result"
    }
   ],
   "source": [
    "#basic example.  \n",
    "#Returns list of Alexander polynomials, the Delta_i(t)\n",
    "\n",
    "pd =[[6,2,7,1],[8,3,9,4],[16,11,1,12],[2,14,3,13],\n",
    "                [4,15,5,16],[10,6,11,5],[12,7,13,8],[14,10,15,9]]\n",
    "alexander_invariants(pd)"
   ]
  },
  {
   "cell_type": "code",
   "execution_count": 3,
   "id": "b0e698ff",
   "metadata": {},
   "outputs": [
    {
     "name": "stdout",
     "output_type": "stream",
     "text": [
      "alexander polynomials = [(t^2 - 3*t + 1) * (t^2 - t + 1)^2, t^2 - t + 1]\n",
      "\t These are the Alexander polynomials Delta_i(t) as factored polynomials. \n",
      "\n",
      "primary decomp = [[t^2 - 3*t + 1, [1]], [t^2 - t + 1, [1, 1]]]\n",
      "\t The primary docomposition is of the form (R/<f^1>) + (R/<g^1> + R/<g^1>)\n",
      "\t Where R =Q[t,t^{-1}] and f(t) and g(t) are as shown. \n",
      "\n",
      "alexander invariants =  [(t^2 - 3*t + 1) * (t^2 - t + 1), t^2 - t + 1]\n",
      "\t  These are the Aelxander invariants as factored polynomials\n"
     ]
    }
   ],
   "source": [
    "#pd notation of 8_18, the first prime knot with noncyclic Alexander module.\n",
    "#Example illustrates the optional parameters.\n",
    "\n",
    "pd = [[6,2,7,1],[8,3,9,4],[16,11,1,12],[2,14,3,13],[4,15,5,16],\n",
    "      [10,6,11,5],[12,7,13,8],[14,10,15,9]] \n",
    "\n",
    "alexpolys_polys = alexander_invariants(pd,decomp='alex_polys_decomp')\n",
    "print('alexander polynomials =', alexpolys_polys)\n",
    "print('\\t These are the Alexander polynomials Delta_i(t) as factored polynomials. \\n')\n",
    "\n",
    "alexpolys_primary = alexander_invariants(pd,decomp='primary_decomp')\n",
    "print('primary decomp =', alexpolys_primary)\n",
    "print('\\t The primary docomposition is of the form (R/<f^1>) + (R/<g^1> + R/<g^1>)')\n",
    "print('\\t Where R =Q[t,t^{-1}] and f(t) and g(t) are as shown.', '\\n')\n",
    "\n",
    "alex_invariants = alexander_invariants(pd,decomp='invariant_factor_decomp')\n",
    "print('alexander invariants = ', alex_invariants)\n",
    "print('\\t  These are the Aelxander invariants as factored polynomials')"
   ]
  },
  {
   "cell_type": "code",
   "execution_count": 4,
   "id": "8fdc7b87-1154-4c65-b11d-65a8dcfcbe4f",
   "metadata": {},
   "outputs": [
    {
     "name": "stdout",
     "output_type": "stream",
     "text": [
      "alex_polys_decomp: [1]\n",
      "<class 'sage.rings.polynomial.polynomial_integer_dense_flint.Polynomial_integer_dense_flint'> \n",
      "\n",
      "primary_decomp: [[1, [1]]]\n",
      "<class 'sage.rings.polynomial.polynomial_integer_dense_flint.Polynomial_integer_dense_flint'> \n",
      "\n",
      "invariant_factor_decomp: [1]\n",
      "<class 'sage.structure.factorization.Factorization'>\n"
     ]
    }
   ],
   "source": [
    "#An unknotted example, checking that types are correct\n",
    "pd = [[4,1,5,2],[3,1,4,6],[5,3,6,2]]\n",
    "\n",
    "alex_invs1 = alexander_invariants(pd,decomp='alex_polys_decomp')\n",
    "alex_invs2 = alexander_invariants(pd,decomp='primary_decomp')\n",
    "alex_invs3 = alexander_invariants(pd,decomp='invariant_factor_decomp')\n",
    "\n",
    "print('alex_polys_decomp:', alex_invs1)\n",
    "print(type(alex_invs1[0]), '\\n')\n",
    "\n",
    "print('primary_decomp:', alex_invs2)\n",
    "print(type(alex_invs2[0][0]), '\\n')\n",
    "\n",
    "print('invariant_factor_decomp:', alex_invs3)\n",
    "print(type(alex_invs3[0]))"
   ]
  },
  {
   "cell_type": "code",
   "execution_count": 5,
   "id": "70eac800-25cb-4216-9d88-b1dde1da666c",
   "metadata": {},
   "outputs": [
    {
     "name": "stdout",
     "output_type": "stream",
     "text": [
      "K10a97 primary_decomp [[5*t^4 - 22*t^3 + 33*t^2 - 22*t + 5, [1]]]\n",
      "K10a98 primary_decomp [[t - 2, [1]], [2*t - 1, [1]], [t^2 - t + 1, [1, 1]]]\n",
      "<class 'sage.rings.polynomial.polynomial_integer_dense_flint.Polynomial_integer_dense_flint'> \n",
      "\n",
      "K10a97 invariant_factor_decomp [5*t^4 - 22*t^3 + 33*t^2 - 22*t + 5]\n",
      "K10a98 invariant_factor_decomp [(t - 2) * (2*t - 1) * (t^2 - t + 1), t^2 - t + 1]\n",
      "<class 'sage.structure.factorization.Factorization'> \n",
      "\n",
      "K10a97 alex_polys_decomp [5*t^4 - 22*t^3 + 33*t^2 - 22*t + 5]\n",
      "K10a98 invariant_factor_decomp [(t - 2) * (2*t - 1) * (t^2 - t + 1)^2, t^2 - t + 1]\n",
      "<class 'sage.structure.factorization.Factorization'> \n",
      "\n"
     ]
    }
   ],
   "source": [
    "#The functions \"find ... \" require that the database\n",
    "#\"pd_database.sqlite\" is installed.\n",
    "\n",
    "#This illustrates getting pd notation from table\n",
    "#It computes the Alexander invaraints for two knots.\n",
    "#It reports the types of output, sometimes polynomials and\n",
    "#sometimes \"factored polynomials\".\n",
    "\n",
    "pd1 = find_pd_from_index(181)\n",
    "name1 = find_name_from_index(181)\n",
    "pd2 = find_pd_from_index(182)\n",
    "name2 = find_name_from_index(182)\n",
    "alex_invs1 = alexander_invariants(pd1)\n",
    "alex_invs2 = alexander_invariants(pd2)\n",
    "\n",
    "alex_invs1 = alexander_invariants(pd1,decomp='primary_decomp')\n",
    "alex_invs2 = alexander_invariants(pd2,decomp='primary_decomp')\n",
    "print(name1, 'primary_decomp', alex_invs1)\n",
    "print(name2, 'primary_decomp', alex_invs2)\n",
    "print(type(alex_invs1[0][0]), '\\n')\n",
    "\n",
    "alex_invs1 = alexander_invariants(pd1,decomp='invariant_factor_decomp')\n",
    "alex_invs2 = alexander_invariants(pd2,decomp='invariant_factor_decomp')\n",
    "print(name1,  'invariant_factor_decomp', alex_invs1)\n",
    "print(name2,  'invariant_factor_decomp', alex_invs2)\n",
    "print(type(alex_invs1[0]), '\\n')\n",
    "\n",
    "alex_invs1 = alexander_invariants(pd1,decomp='alex_polys_decomp')\n",
    "alex_invs2 = alexander_invariants(pd2,decomp='alex_polys_decomp')\n",
    "print(name1,  'alex_polys_decomp', alex_invs1)\n",
    "print(name2,  'invariant_factor_decomp', alex_invs2)\n",
    "print(type(alex_invs1[0]), '\\n')\n"
   ]
  },
  {
   "cell_type": "code",
   "execution_count": 6,
   "id": "b3e01678-cfe2-4354-980e-452297f4e573",
   "metadata": {},
   "outputs": [
    {
     "ename": "ValueError",
     "evalue": "Invalid PD code",
     "output_type": "error",
     "traceback": [
      "\u001b[31m---------------------------------------------------------------------------\u001b[39m",
      "\u001b[31mValueError\u001b[39m                                Traceback (most recent call last)",
      "\u001b[36mCell\u001b[39m\u001b[36m \u001b[39m\u001b[32mIn[6]\u001b[39m\u001b[32m, line 4\u001b[39m\n\u001b[32m      1\u001b[39m \u001b[38;5;66;03m#INCORRECT PD CODE\u001b[39;00m\n\u001b[32m      2\u001b[39m pd = [[Integer(\u001b[32m6\u001b[39m),Integer(\u001b[32m2\u001b[39m),Integer(\u001b[32m8\u001b[39m),Integer(\u001b[32m1\u001b[39m)],[Integer(\u001b[32m8\u001b[39m),Integer(\u001b[32m3\u001b[39m),Integer(\u001b[32m9\u001b[39m),Integer(\u001b[32m4\u001b[39m)],[Integer(\u001b[32m16\u001b[39m),Integer(\u001b[32m11\u001b[39m),Integer(\u001b[32m1\u001b[39m),Integer(\u001b[32m12\u001b[39m)],[Integer(\u001b[32m2\u001b[39m),Integer(\u001b[32m14\u001b[39m),Integer(\u001b[32m3\u001b[39m),Integer(\u001b[32m13\u001b[39m)],[Integer(\u001b[32m4\u001b[39m),Integer(\u001b[32m15\u001b[39m),Integer(\u001b[32m5\u001b[39m),Integer(\u001b[32m16\u001b[39m)],\n\u001b[32m      3\u001b[39m       [Integer(\u001b[32m10\u001b[39m),Integer(\u001b[32m6\u001b[39m),Integer(\u001b[32m11\u001b[39m),Integer(\u001b[32m5\u001b[39m)],[Integer(\u001b[32m12\u001b[39m),Integer(\u001b[32m7\u001b[39m),Integer(\u001b[32m13\u001b[39m),Integer(\u001b[32m8\u001b[39m)],[Integer(\u001b[32m14\u001b[39m),Integer(\u001b[32m10\u001b[39m),Integer(\u001b[32m15\u001b[39m),Integer(\u001b[32m9\u001b[39m)]] \n\u001b[32m----> \u001b[39m\u001b[32m4\u001b[39m alex_invs = \u001b[43malexander_invariants\u001b[49m\u001b[43m(\u001b[49m\u001b[43mpd\u001b[49m\u001b[43m)\u001b[49m\n\u001b[32m      5\u001b[39m \u001b[38;5;28mprint\u001b[39m(alex_invs)\n",
      "\u001b[36mFile \u001b[39m\u001b[32m<string>:93\u001b[39m, in \u001b[36malexander_invariants\u001b[39m\u001b[34m(pd_code, decomp)\u001b[39m\n",
      "\u001b[36mFile \u001b[39m\u001b[32m<string>:48\u001b[39m, in \u001b[36m_check_pd_code\u001b[39m\u001b[34m(pd_code)\u001b[39m\n",
      "\u001b[31mValueError\u001b[39m: Invalid PD code"
     ]
    }
   ],
   "source": [
    "#INCORRECT PD CODE\n",
    "pd = [[6,2,8,1],[8,3,9,4],[16,11,1,12],[2,14,3,13],[4,15,5,16],\n",
    "      [10,6,11,5],[12,7,13,8],[14,10,15,9]] \n",
    "alex_invs = alexander_invariants(pd)\n",
    "print(alex_invs)"
   ]
  },
  {
   "cell_type": "code",
   "execution_count": 7,
   "id": "68f97ad4-b75b-4bd4-80fb-cf4e73f47b40",
   "metadata": {},
   "outputs": [
    {
     "name": "stdout",
     "output_type": "stream",
     "text": [
      "name from index: K3a1 \n",
      "\n",
      "name from index: K16n806971 \n",
      "\n",
      "pd from index: [[4, 0, 5, 31], [0, 8, 1, 7], [8, 2, 9, 1], [17, 3, 18, 2], [3, 17, 4, 16], [24, 6, 25, 5], [6, 24, 7, 23], [28, 9, 29, 10], [10, 19, 11, 20], [26, 12, 27, 11], [12, 22, 13, 21], [22, 14, 23, 13], [14, 26, 15, 25], [30, 16, 31, 15], [18, 30, 19, 29], [20, 27, 21, 28]] \n",
      "\n",
      "index_from name: 1368951 \n",
      "\n",
      "pd from name: [[4, 0, 5, 31], [0, 8, 1, 7], [8, 2, 9, 1], [17, 3, 18, 2], [3, 17, 4, 16], [24, 6, 25, 5], [6, 24, 7, 23], [28, 9, 29, 10], [10, 19, 11, 20], [26, 12, 27, 11], [12, 22, 13, 21], [22, 14, 23, 13], [14, 26, 15, 25], [30, 16, 31, 15], [18, 30, 19, 29], [20, 27, 21, 28]] \n",
      "\n"
     ]
    }
   ],
   "source": [
    "#helper functions to get names and pd notation for knots.\n",
    "#Somewhat slow for large searches.\n",
    "#Requires 'pd_database.sqlite'.\n",
    "\n",
    "print('name from index:', find_name_from_index(1), '\\n')\n",
    "print('name from index:', find_name_from_index(1500000), '\\n')      # First name\n",
    "print('pd from index:', find_pd_from_index(1500000), '\\n' )        # First PD\n",
    "print('index_from name:', find_index_from_name('K16n675922'), '\\n') \n",
    "print('pd from name:', find_pd_from_name('K16n806971'), '\\n')"
   ]
  },
  {
   "cell_type": "code",
   "execution_count": null,
   "id": "7c9c8b4e-8a6f-4cb0-837d-7dc63a94b497",
   "metadata": {},
   "outputs": [],
   "source": []
  }
 ],
 "metadata": {
  "kernelspec": {
   "display_name": "SageMath 10.7",
   "language": "sage",
   "name": "sagemath-10.7"
  },
  "language_info": {
   "codemirror_mode": {
    "name": "ipython",
    "version": 3
   },
   "file_extension": ".py",
   "mimetype": "text/x-python",
   "name": "python",
   "nbconvert_exporter": "python",
   "pygments_lexer": "ipython3",
   "version": "3.13.3"
  }
 },
 "nbformat": 4,
 "nbformat_minor": 5
}
