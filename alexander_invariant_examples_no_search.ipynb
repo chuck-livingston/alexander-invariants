{
 "cells": [
  {
   "cell_type": "code",
   "execution_count": 16,
   "id": "2fc286cd",
   "metadata": {},
   "outputs": [],
   "source": [
    "#Load the alexander invariants program\n",
    "load('alexander_invariants_no_search.sage')"
   ]
  },
  {
   "cell_type": "code",
   "execution_count": 17,
   "id": "820b44ef-613d-415b-8293-de6196525edf",
   "metadata": {},
   "outputs": [
    {
     "data": {
      "text/plain": [
       "[(t^2 - 3*t + 1) * (t^2 - t + 1)^2, t^2 - t + 1]"
      ]
     },
     "execution_count": 17,
     "metadata": {},
     "output_type": "execute_result"
    }
   ],
   "source": [
    "#basic example.  \n",
    "#Returns list of Alexander polynomials, the Delta_i(t)\n",
    "#alexander_invariants(pd) is the same as alexander_invariants(pd, decomp='alex_polys_decomp')\n",
    "\n",
    "pd =[[6,2,7,1],[8,3,9,4],[16,11,1,12],[2,14,3,13],\n",
    "                [4,15,5,16],[10,6,11,5],[12,7,13,8],[14,10,15,9]]\n",
    "alexander_invariants(pd)"
   ]
  },
  {
   "cell_type": "code",
   "execution_count": 18,
   "id": "b624ceb0-2f4e-4df4-bbb1-1ff3daeb31b8",
   "metadata": {},
   "outputs": [
    {
     "name": "stdout",
     "output_type": "stream",
     "text": [
      "[[5*t^4 - 22*t^3 + 33*t^2 - 22*t + 5, [1]]]\n",
      "[[t - 2, [1]], [2*t - 1, [1]], [t^2 - t + 1, [1, 1]]]\n"
     ]
    }
   ],
   "source": [
    "#10a97\n",
    "pd1 = [[2,12,3,11],[4,18,5,17],[6,13,7,14],[8,6,9,5],[10,20,11,19],[12,7,13,8],[14,2,15,1],[16,10,17,9],[18,4,19,3],[20,16,1,15]]\n",
    "print(alexander_invariants(pd1,decomp='primary_decomp'))\n",
    "#10a98\n",
    "pd2 = [[1,10,2,11],[3,17,4,16],[5,13,6,12],[7,19,8,18],[9,15,10,14],[11,20,12,1],[13,7,14,6],[15,3,16,2],[17,9,18,8],[19,5,20,4]]\n",
    "print(alexander_invariants(pd2,decomp='primary_decomp'))"
   ]
  },
  {
   "cell_type": "code",
   "execution_count": 19,
   "id": "b0e698ff",
   "metadata": {},
   "outputs": [
    {
     "name": "stdout",
     "output_type": "stream",
     "text": [
      "alexander polynomials = [(t^2 - 3*t + 1) * (t^2 - t + 1)^2, t^2 - t + 1]\n",
      "\tThese are the Alexander polynomials Delta_i(t) as factored polynomials.\n",
      "\ttype alexpolynomials[i]: <class 'sage.structure.factorization.Factorization'> \n",
      "\n",
      "primary decomp = [[t^2 - 3*t + 1, [1]], [t^2 - t + 1, [1, 1]]]\n",
      "\tThe primary docomposition is of the form (R/<f^1>) + (R/<g^1> + R/<g^1>)\n",
      "\tWhere R =Q[t,t^{-1}] and f(t) = t^2 - 3*t +1  and g(t) = t^2 - t +1.\n",
      "\ttype alexpolys_primary[i]: <class 'sage.rings.polynomial.polynomial_integer_dense_flint.Polynomial_integer_dense_flint'> \n",
      "\n",
      "alexander invariants =  [(t^2 - 3*t + 1) * (t^2 - t + 1), t^2 - t + 1]\n",
      "\tThese are the Alexander invariants as factored polynomials\n",
      "\ttype alex_invariants[i]: <class 'sage.structure.factorization.Factorization'> \n",
      "\n"
     ]
    }
   ],
   "source": [
    "#pd notation of 8_18, the first prime knot with noncyclic Alexander module.\n",
    "#Example illustrates the optional parameters.\n",
    "\n",
    "pd = [[6,2,7,1],[8,3,9,4],[16,11,1,12],[2,14,3,13],[4,15,5,16],\n",
    "      [10,6,11,5],[12,7,13,8],[14,10,15,9]] \n",
    "\n",
    "alexpolys_polys = alexander_invariants(pd,decomp='alex_polys_decomp')\n",
    "print('alexander polynomials =', alexpolys_polys)\n",
    "print('\\tThese are the Alexander polynomials Delta_i(t) as factored polynomials.')\n",
    "print('\\ttype alexpolynomials[i]:', type(alexpolys_polys[0]), '\\n')\n",
    "\n",
    "alexpolys_primary = alexander_invariants(pd,decomp='primary_decomp')\n",
    "print('primary decomp =', alexpolys_primary)\n",
    "print('\\tThe primary docomposition is of the form (R/<f^1>) + (R/<g^1> + R/<g^1>)')\n",
    "print('\\tWhere R =Q[t,t^{-1}] and f(t) = t^2 - 3*t +1  and g(t) = t^2 - t +1.')\n",
    "print('\\ttype alexpolys_primary[i]:', type(alexpolys_primary[0][0]), '\\n')\n",
    "\n",
    "alex_invariants = alexander_invariants(pd,decomp='invariant_factor_decomp')\n",
    "print('alexander invariants = ', alex_invariants)\n",
    "print('\\tThese are the Alexander invariants as factored polynomials')\n",
    "print('\\ttype alex_invariants[i]:', type(alex_invariants[0]), '\\n')"
   ]
  },
  {
   "cell_type": "code",
   "execution_count": 15,
   "id": "b3e01678-cfe2-4354-980e-452297f4e573",
   "metadata": {},
   "outputs": [
    {
     "ename": "ValueError",
     "evalue": "Invalid PD code",
     "output_type": "error",
     "traceback": [
      "\u001b[31m---------------------------------------------------------------------------\u001b[39m",
      "\u001b[31mValueError\u001b[39m                                Traceback (most recent call last)",
      "\u001b[36mCell\u001b[39m\u001b[36m \u001b[39m\u001b[32mIn[15]\u001b[39m\u001b[32m, line 4\u001b[39m\n\u001b[32m      1\u001b[39m \u001b[38;5;66;03m#INCORRECT PD CODE\u001b[39;00m\n\u001b[32m      2\u001b[39m pd = [[Integer(\u001b[32m6\u001b[39m),Integer(\u001b[32m2\u001b[39m),Integer(\u001b[32m8\u001b[39m),Integer(\u001b[32m1\u001b[39m)],[Integer(\u001b[32m8\u001b[39m),Integer(\u001b[32m3\u001b[39m),Integer(\u001b[32m9\u001b[39m),Integer(\u001b[32m4\u001b[39m)],[Integer(\u001b[32m16\u001b[39m),Integer(\u001b[32m11\u001b[39m),Integer(\u001b[32m1\u001b[39m),Integer(\u001b[32m12\u001b[39m)],[Integer(\u001b[32m2\u001b[39m),Integer(\u001b[32m14\u001b[39m),Integer(\u001b[32m3\u001b[39m),Integer(\u001b[32m13\u001b[39m)],[Integer(\u001b[32m4\u001b[39m),Integer(\u001b[32m15\u001b[39m),Integer(\u001b[32m5\u001b[39m),Integer(\u001b[32m16\u001b[39m)],\n\u001b[32m      3\u001b[39m       [Integer(\u001b[32m10\u001b[39m),Integer(\u001b[32m6\u001b[39m),Integer(\u001b[32m11\u001b[39m),Integer(\u001b[32m5\u001b[39m)],[Integer(\u001b[32m12\u001b[39m),Integer(\u001b[32m7\u001b[39m),Integer(\u001b[32m13\u001b[39m),Integer(\u001b[32m8\u001b[39m)],[Integer(\u001b[32m14\u001b[39m),Integer(\u001b[32m10\u001b[39m),Integer(\u001b[32m15\u001b[39m),Integer(\u001b[32m9\u001b[39m)]] \n\u001b[32m----> \u001b[39m\u001b[32m4\u001b[39m alex_invs = \u001b[43malexander_invariants\u001b[49m\u001b[43m(\u001b[49m\u001b[43mpd\u001b[49m\u001b[43m)\u001b[49m\n\u001b[32m      5\u001b[39m \u001b[38;5;28mprint\u001b[39m(alex_invs)\n",
      "\u001b[36mFile \u001b[39m\u001b[32m<string>:93\u001b[39m, in \u001b[36malexander_invariants\u001b[39m\u001b[34m(pd_code, decomp)\u001b[39m\n",
      "\u001b[36mFile \u001b[39m\u001b[32m<string>:48\u001b[39m, in \u001b[36m_check_pd_code\u001b[39m\u001b[34m(pd_code)\u001b[39m\n",
      "\u001b[31mValueError\u001b[39m: Invalid PD code"
     ]
    }
   ],
   "source": [
    "#INCORRECT PD CODE\n",
    "pd = [[6,2,8,1],[8,3,9,4],[16,11,1,12],[2,14,3,13],[4,15,5,16],\n",
    "      [10,6,11,5],[12,7,13,8],[14,10,15,9]] \n",
    "alex_invs = alexander_invariants(pd)\n",
    "print(alex_invs)"
   ]
  },
  {
   "cell_type": "code",
   "execution_count": null,
   "id": "68f97ad4-b75b-4bd4-80fb-cf4e73f47b40",
   "metadata": {},
   "outputs": [],
   "source": []
  },
  {
   "cell_type": "code",
   "execution_count": null,
   "id": "7c9c8b4e-8a6f-4cb0-837d-7dc63a94b497",
   "metadata": {},
   "outputs": [],
   "source": []
  }
 ],
 "metadata": {
  "kernelspec": {
   "display_name": "SageMath 10.7",
   "language": "sage",
   "name": "sagemath-10.7"
  },
  "language_info": {
   "codemirror_mode": {
    "name": "ipython",
    "version": 3
   },
   "file_extension": ".py",
   "mimetype": "text/x-python",
   "name": "python",
   "nbconvert_exporter": "python",
   "pygments_lexer": "ipython3",
   "version": "3.13.3"
  }
 },
 "nbformat": 4,
 "nbformat_minor": 5
}
